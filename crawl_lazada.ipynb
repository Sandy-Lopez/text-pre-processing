{
 "cells": [
  {
   "cell_type": "code",
   "execution_count": 1,
   "metadata": {},
   "outputs": [
    {
     "name": "stderr",
     "output_type": "stream",
     "text": [
      "C:\\Users\\ASUS\\AppData\\Local\\Temp\\ipykernel_15696\\943484263.py:9: DeprecationWarning: executable_path has been deprecated, please pass in a Service object\n",
      "  driver = webdriver.Chrome(r\"C:\\Users\\Admin\\Downloads\\chromedriver_win32 (1)\\chromedriver.exe\")\n"
     ]
    }
   ],
   "source": [
    "from selenium import webdriver\n",
    "from selenium.webdriver.chrome.options import Options\n",
    "from selenium.webdriver.chrome.service import Service\n",
    "from webdriver_manager.chrome import ChromeDriverManager\n",
    "from selenium.webdriver.common.by import By\n",
    "from selenium.webdriver.common.keys import Keys\n",
    "\n"
   ]
  },
  {
   "cell_type": "code",
   "execution_count": 2,
   "metadata": {},
   "outputs": [
    {
     "name": "stderr",
     "output_type": "stream",
     "text": [
      "C:\\Users\\ASUS\\AppData\\Local\\Temp\\ipykernel_15696\\504292307.py:2: DeprecationWarning: executable_path has been deprecated, please pass in a Service object\n",
      "  driver = webdriver.Chrome(r\"C:\\Users\\Admin\\Downloads\\chromedriver_win32 (1)\\chromedriver.exe\")\n"
     ]
    }
   ],
   "source": [
    "options = Options()\n",
    "driver = webdriver.Chrome(r\"C:\\Users\\Admin\\Downloads\\chromedriver_win32 (1)\\chromedriver.exe\")\n",
    "driver.get(\"https://pages.lazada.vn/#\")"
   ]
  },
  {
   "cell_type": "code",
   "execution_count": 3,
   "metadata": {},
   "outputs": [],
   "source": [
    "for n_time in range(100):\n",
    "    driver.execute_script(\"window.scrollTo(0, 1080)\")\n"
   ]
  },
  {
   "attachments": {},
   "cell_type": "markdown",
   "metadata": {},
   "source": [
    "#### 1. Crawl item names"
   ]
  },
  {
   "cell_type": "code",
   "execution_count": 6,
   "metadata": {},
   "outputs": [
    {
     "data": {
      "text/plain": [
       "24"
      ]
     },
     "execution_count": 6,
     "metadata": {},
     "output_type": "execute_result"
    }
   ],
   "source": [
    "list_items = [x.text for x in driver.find_elements(By.CLASS_NAME, \"card-jfy-title\")]\n",
    "len(list_items)"
   ]
  },
  {
   "attachments": {},
   "cell_type": "markdown",
   "metadata": {},
   "source": [
    "### 2. Price"
   ]
  },
  {
   "cell_type": "code",
   "execution_count": 7,
   "metadata": {},
   "outputs": [
    {
     "data": {
      "text/plain": [
       "24"
      ]
     },
     "execution_count": 7,
     "metadata": {},
     "output_type": "execute_result"
    }
   ],
   "source": [
    "list_prices = [x.text for x in driver.find_elements(By.CLASS_NAME, \"hp-mod-price\")]\n",
    "len(list_prices)"
   ]
  },
  {
   "cell_type": "code",
   "execution_count": 8,
   "metadata": {},
   "outputs": [
    {
     "data": {
      "text/plain": [
       "24"
      ]
     },
     "execution_count": 8,
     "metadata": {},
     "output_type": "execute_result"
    }
   ],
   "source": [
    "n_sold = [x.text for x in driver.find_elements(By.CLASS_NAME, \"card-jfy-footer\")]\n",
    "len(n_sold)"
   ]
  },
  {
   "cell_type": "code",
   "execution_count": 9,
   "metadata": {},
   "outputs": [
    {
     "data": {
      "text/plain": [
       "24"
      ]
     },
     "execution_count": 9,
     "metadata": {},
     "output_type": "execute_result"
    }
   ],
   "source": [
    "n_2pr = [x.text for x in driver.find_elements(By.CLASS_NAME, \"hp-mod-price-second-line\")]\n",
    "len(n_2pr)"
   ]
  },
  {
   "attachments": {},
   "cell_type": "markdown",
   "metadata": {},
   "source": [
    "#### Wraping up"
   ]
  },
  {
   "cell_type": "code",
   "execution_count": 10,
   "metadata": {},
   "outputs": [
    {
     "data": {
      "text/html": [
       "<div>\n",
       "<style scoped>\n",
       "    .dataframe tbody tr th:only-of-type {\n",
       "        vertical-align: middle;\n",
       "    }\n",
       "\n",
       "    .dataframe tbody tr th {\n",
       "        vertical-align: top;\n",
       "    }\n",
       "\n",
       "    .dataframe thead th {\n",
       "        text-align: right;\n",
       "    }\n",
       "</style>\n",
       "<table border=\"1\" class=\"dataframe\">\n",
       "  <thead>\n",
       "    <tr style=\"text-align: right;\">\n",
       "      <th></th>\n",
       "      <th>items</th>\n",
       "      <th>price</th>\n",
       "      <th>n_sold</th>\n",
       "      <th>note</th>\n",
       "    </tr>\n",
       "  </thead>\n",
       "  <tbody>\n",
       "    <tr>\n",
       "      <th>0</th>\n",
       "      <td>Camera Wifi Imou C22EP Hoặc C22SP, đàm thoại 2...</td>\n",
       "      <td>₫434,000\\n₫489,000\\n-11%</td>\n",
       "      <td>(376)</td>\n",
       "      <td>₫489,000\\n-11%</td>\n",
       "    </tr>\n",
       "    <tr>\n",
       "      <th>1</th>\n",
       "      <td>COMBO 30, 50 khăn lau chùi đa năng 2 mặt, khăn...</td>\n",
       "      <td>₫10,000\\n₫35,000\\n-71%</td>\n",
       "      <td>(673)</td>\n",
       "      <td>₫35,000\\n-71%</td>\n",
       "    </tr>\n",
       "    <tr>\n",
       "      <th>2</th>\n",
       "      <td>Giày thể thao nam đẹp, sneaker nam thời trang ...</td>\n",
       "      <td>₫147,000\\n₫355,000\\n-59%</td>\n",
       "      <td>(1375)</td>\n",
       "      <td>₫355,000\\n-59%</td>\n",
       "    </tr>\n",
       "    <tr>\n",
       "      <th>3</th>\n",
       "      <td>Bộ 2 nước tẩy trang dưỡng ẩm mượt da 3-in-1 L'...</td>\n",
       "      <td>₫339,000\\n₫438,000\\n-23%</td>\n",
       "      <td>(278)</td>\n",
       "      <td>₫438,000\\n-23%</td>\n",
       "    </tr>\n",
       "    <tr>\n",
       "      <th>4</th>\n",
       "      <td>( PIN 3A ) Hộp Pin AAA TOSHIBA 1.5V ( Hộp 40 V...</td>\n",
       "      <td>₫15,000\\n₫29,000\\n-48%</td>\n",
       "      <td>(1732)</td>\n",
       "      <td>₫29,000\\n-48%</td>\n",
       "    </tr>\n",
       "    <tr>\n",
       "      <th>...</th>\n",
       "      <td>...</td>\n",
       "      <td>...</td>\n",
       "      <td>...</td>\n",
       "      <td>...</td>\n",
       "    </tr>\n",
       "    <tr>\n",
       "      <th>115</th>\n",
       "      <td>Đầm xòe dáng dài qua gối nhiều màu hàng cao cấ...</td>\n",
       "      <td>₫109,000\\n₫389,000\\n-72%</td>\n",
       "      <td>(1855)</td>\n",
       "      <td>₫389,000\\n-72%</td>\n",
       "    </tr>\n",
       "    <tr>\n",
       "      <th>116</th>\n",
       "      <td>Men lạt men nở làm bánh mì-bánh pizza Mauripan...</td>\n",
       "      <td>₫12,000</td>\n",
       "      <td>(1919)</td>\n",
       "      <td></td>\n",
       "    </tr>\n",
       "    <tr>\n",
       "      <th>117</th>\n",
       "      <td>(xả kho 200 đôi)Dép kẹp nữ đính bướm chúa siêu...</td>\n",
       "      <td>₫65,000\\n₫150,000\\n-57%</td>\n",
       "      <td>(234)</td>\n",
       "      <td>₫150,000\\n-57%</td>\n",
       "    </tr>\n",
       "    <tr>\n",
       "      <th>118</th>\n",
       "      <td>Kẹp Điện Thoại Dán Lên Mặt Đồng Hồ Xe Máy, Có ...</td>\n",
       "      <td>₫8,930\\n₫26,000\\n-66%</td>\n",
       "      <td>(195)</td>\n",
       "      <td>₫26,000\\n-66%</td>\n",
       "    </tr>\n",
       "    <tr>\n",
       "      <th>119</th>\n",
       "      <td>【FNKvision】CAMERA IP WIFI 5G YOOSEE 11 LED 5.0...</td>\n",
       "      <td>₫220,000\\n₫350,000\\n-37%</td>\n",
       "      <td>(1425)</td>\n",
       "      <td>₫350,000\\n-37%</td>\n",
       "    </tr>\n",
       "  </tbody>\n",
       "</table>\n",
       "<p>120 rows × 4 columns</p>\n",
       "</div>"
      ],
      "text/plain": [
       "                                                 items  \\\n",
       "0    Camera Wifi Imou C22EP Hoặc C22SP, đàm thoại 2...   \n",
       "1    COMBO 30, 50 khăn lau chùi đa năng 2 mặt, khăn...   \n",
       "2    Giày thể thao nam đẹp, sneaker nam thời trang ...   \n",
       "3    Bộ 2 nước tẩy trang dưỡng ẩm mượt da 3-in-1 L'...   \n",
       "4    ( PIN 3A ) Hộp Pin AAA TOSHIBA 1.5V ( Hộp 40 V...   \n",
       "..                                                 ...   \n",
       "115  Đầm xòe dáng dài qua gối nhiều màu hàng cao cấ...   \n",
       "116  Men lạt men nở làm bánh mì-bánh pizza Mauripan...   \n",
       "117  (xả kho 200 đôi)Dép kẹp nữ đính bướm chúa siêu...   \n",
       "118  Kẹp Điện Thoại Dán Lên Mặt Đồng Hồ Xe Máy, Có ...   \n",
       "119  【FNKvision】CAMERA IP WIFI 5G YOOSEE 11 LED 5.0...   \n",
       "\n",
       "                        price  n_sold            note  \n",
       "0    ₫434,000\\n₫489,000\\n-11%   (376)  ₫489,000\\n-11%  \n",
       "1      ₫10,000\\n₫35,000\\n-71%   (673)   ₫35,000\\n-71%  \n",
       "2    ₫147,000\\n₫355,000\\n-59%  (1375)  ₫355,000\\n-59%  \n",
       "3    ₫339,000\\n₫438,000\\n-23%   (278)  ₫438,000\\n-23%  \n",
       "4      ₫15,000\\n₫29,000\\n-48%  (1732)   ₫29,000\\n-48%  \n",
       "..                        ...     ...             ...  \n",
       "115  ₫109,000\\n₫389,000\\n-72%  (1855)  ₫389,000\\n-72%  \n",
       "116                   ₫12,000  (1919)                  \n",
       "117   ₫65,000\\n₫150,000\\n-57%   (234)  ₫150,000\\n-57%  \n",
       "118     ₫8,930\\n₫26,000\\n-66%   (195)   ₫26,000\\n-66%  \n",
       "119  ₫220,000\\n₫350,000\\n-37%  (1425)  ₫350,000\\n-37%  \n",
       "\n",
       "[120 rows x 4 columns]"
      ]
     },
     "execution_count": 10,
     "metadata": {},
     "output_type": "execute_result"
    }
   ],
   "source": [
    "import time\n",
    "import pandas as pd\n",
    "from selenium.webdriver.support.ui import WebDriverWait\n",
    "from selenium.webdriver.support import expected_conditions as EC\n",
    "\n",
    "load_more_button = driver.find_element(By.XPATH, '//*[@id=\"hp-just-for-you\"]/div[2]/div[2]/a')\n",
    "\n",
    "for n_time in range(10):\n",
    "    driver.execute_script(\"window.scrollTo(0, 1080)\")\n",
    "    try:\n",
    "        WebDriverWait(driver, 2).until(EC.element_to_be_clickable((By.XPATH, '//*[@id=\"hp-just-for-you\"]/div[2]/div[2]/a'))).click()\n",
    "    except:\n",
    "        break\n",
    "\n",
    "list_items = [x.text for x in driver.find_elements(By.CLASS_NAME, \"card-jfy-title\")]\n",
    "list_prices = [x.text for x in driver.find_elements(By.CLASS_NAME, \"hp-mod-price\")]\n",
    "n_sold = [x.text for x in driver.find_elements(By.CLASS_NAME, \"card-jfy-footer\")]\n",
    "n_2pr = [x.text for x in driver.find_elements(By.CLASS_NAME, \"hp-mod-price-second-line\")]\n",
    "\n",
    "pd.DataFrame({'items': list_items, 'price': list_prices, 'n_sold': n_sold, 'note': n_2pr})"
   ]
  },
  {
   "cell_type": "code",
   "execution_count": null,
   "metadata": {},
   "outputs": [],
   "source": [
    "df = pd.DataFrame({'items': list_items, 'price': list_prices, 'n_sold': n_sold, 'note': n_2pr})\n",
    "df.to_csv('lazada.csv', index=False)"
   ]
  }
 ],
 "metadata": {
  "kernelspec": {
   "display_name": "Python 3",
   "language": "python",
   "name": "python3"
  },
  "language_info": {
   "codemirror_mode": {
    "name": "ipython",
    "version": 3
   },
   "file_extension": ".py",
   "mimetype": "text/x-python",
   "name": "python",
   "nbconvert_exporter": "python",
   "pygments_lexer": "ipython3",
   "version": "3.10.5"
  },
  "orig_nbformat": 4
 },
 "nbformat": 4,
 "nbformat_minor": 2
}
